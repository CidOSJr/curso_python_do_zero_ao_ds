{
 "cells": [
  {
   "cell_type": "code",
   "execution_count": 3,
   "id": "lesbian-australia",
   "metadata": {
    "ExecuteTime": {
     "end_time": "2021-02-05T17:47:33.655427Z",
     "start_time": "2021-02-05T17:47:33.644577Z"
    },
    "run_control": {
     "marked": true
    }
   },
   "outputs": [],
   "source": [
    "# !pip install jupyter_contrib_nbextensions -q\n",
    "\n",
    "# Codefolding - encurtar funções\n",
    "# Collapsible Headings - cria seções\n",
    "# Help panel\n",
    "# Limit Output\n",
    "# ScrollDown\n",
    "# Runtools"
   ]
  },
  {
   "cell_type": "markdown",
   "id": "creative-usage",
   "metadata": {},
   "source": [
    "# 0.0. Importações"
   ]
  },
  {
   "cell_type": "code",
   "execution_count": 4,
   "id": "premium-silence",
   "metadata": {
    "ExecuteTime": {
     "end_time": "2021-02-05T17:47:35.766400Z",
     "start_time": "2021-02-05T17:47:34.947587Z"
    },
    "run_control": {
     "marked": true
    }
   },
   "outputs": [],
   "source": [
    "import pandas as pd"
   ]
  },
  {
   "cell_type": "markdown",
   "id": "threatened-space",
   "metadata": {},
   "source": [
    "## 0.1. Carregar Dados"
   ]
  },
  {
   "cell_type": "code",
   "execution_count": 5,
   "id": "induced-woman",
   "metadata": {
    "ExecuteTime": {
     "end_time": "2021-02-05T17:47:35.973259Z",
     "start_time": "2021-02-05T17:47:35.862581Z"
    },
    "run_control": {
     "marked": true
    }
   },
   "outputs": [],
   "source": [
    "data = pd.read_csv( 'data/kc_house_data.csv.zip' )"
   ]
  },
  {
   "cell_type": "markdown",
   "id": "religious-payday",
   "metadata": {},
   "source": [
    "# 1.0. Transformações de Dados"
   ]
  },
  {
   "cell_type": "markdown",
   "id": "charged-veteran",
   "metadata": {},
   "source": [
    "## 1.1. Agrupamento\n",
    "- *Sequência de 3 tarefas: Split, Apply, Combine (Separa, Aplica, Combina)*"
   ]
  },
  {
   "cell_type": "code",
   "execution_count": 6,
   "id": "breathing-gnome",
   "metadata": {
    "ExecuteTime": {
     "end_time": "2021-02-05T17:47:37.400149Z",
     "start_time": "2021-02-05T17:47:37.356382Z"
    },
    "run_control": {
     "marked": true
    }
   },
   "outputs": [
    {
     "name": "stdout",
     "output_type": "stream",
     "text": [
      "(13, 21)\n",
      "(199, 21)\n",
      "(2760, 21)\n",
      "(9824, 21)\n",
      "(6882, 21)\n"
     ]
    }
   ],
   "source": [
    "# Quantos imoveis existem por numero de quartos\n",
    "print( data[data['bedrooms'] == 0].shape )\n",
    "print( data[data['bedrooms'] == 1].shape )\n",
    "print( data[data['bedrooms'] == 2].shape )\n",
    "print( data[data['bedrooms'] == 3].shape )\n",
    "print( data[data['bedrooms'] == 4].shape )\n"
   ]
  },
  {
   "cell_type": "code",
   "execution_count": 7,
   "id": "single-indiana",
   "metadata": {
    "ExecuteTime": {
     "end_time": "2021-02-05T17:47:37.892250Z",
     "start_time": "2021-02-05T17:47:37.884382Z"
    },
    "run_control": {
     "marked": true
    }
   },
   "outputs": [],
   "source": [
    "df_grouped = data[['id', 'bedrooms']].groupby( 'bedrooms' )"
   ]
  },
  {
   "cell_type": "code",
   "execution_count": 8,
   "id": "novel-paper",
   "metadata": {
    "ExecuteTime": {
     "end_time": "2021-02-05T17:47:38.402777Z",
     "start_time": "2021-02-05T17:47:38.315304Z"
    },
    "code_folding": [],
    "run_control": {
     "marked": true
    },
    "scrolled": true
   },
   "outputs": [
    {
     "name": "stdout",
     "output_type": "stream",
     "text": [
      "numero de quartos: 0\n",
      "              id  bedrooms\n",
      "875   6306400140         0\n",
      "3119  3918400017         0\n",
      "3467  1453602309         0\n",
      "4868  6896300380         0\n",
      "6994  2954400190         0\n",
      "numero de quartos: 1\n",
      "             id  bedrooms\n",
      "154  7920100045         1\n",
      "264  2123039032         1\n",
      "350  7325600160         1\n",
      "465  8658300340         1\n",
      "648   922049078         1\n",
      "numero de quartos: 2\n",
      "            id  bedrooms\n",
      "2   5631500400         2\n",
      "11  9212900260         2\n",
      "18    16000397         2\n",
      "23  8091400200         2\n",
      "31  2426039314         2\n",
      "numero de quartos: 3\n",
      "           id  bedrooms\n",
      "0  7129300520         3\n",
      "1  6414100192         3\n",
      "4  1954400510         3\n",
      "6  1321400060         3\n",
      "7  2008000270         3\n",
      "numero de quartos: 4\n",
      "            id  bedrooms\n",
      "3   2487200875         4\n",
      "5   7237550310         4\n",
      "15  9297300055         4\n",
      "17  6865200140         4\n",
      "20  6300500875         4\n",
      "numero de quartos: 5\n",
      "            id  bedrooms\n",
      "14  1175000570         5\n",
      "22  7137970340         5\n",
      "42  7203220400         5\n",
      "51  7231300125         5\n",
      "54  4217401195         5\n",
      "numero de quartos: 6\n",
      "             id  bedrooms\n",
      "209  6300000550         6\n",
      "232  9264902050         6\n",
      "239  5152100060         6\n",
      "331  2946001550         6\n",
      "486  9286000240         6\n",
      "numero de quartos: 7\n",
      "              id  bedrooms\n",
      "556   5486800070         7\n",
      "1135  4024100951         7\n",
      "1241  7227802030         7\n",
      "3721  5451100490         7\n",
      "4024  9175600025         7\n",
      "numero de quartos: 8\n",
      "              id  bedrooms\n",
      "1660  9126101740         8\n",
      "4035   685000115         8\n",
      "4067  7226500100         8\n",
      "6174  1873400020         8\n",
      "9077  6746700615         8\n",
      "numero de quartos: 9\n",
      "               id  bedrooms\n",
      "4096   1997200215         9\n",
      "4235   2902200015         9\n",
      "6079   9822700190         9\n",
      "8546    424049043         9\n",
      "16844  8823900290         9\n",
      "numero de quartos: 10\n",
      "               id  bedrooms\n",
      "13314   627300145        10\n",
      "15161  5566100170        10\n",
      "19254  8812401450        10\n",
      "numero de quartos: 11\n",
      "              id  bedrooms\n",
      "8757  1773100755        11\n",
      "numero de quartos: 33\n",
      "               id  bedrooms\n",
      "15870  2402100895        33\n"
     ]
    }
   ],
   "source": [
    "for bedrooms, frame in df_grouped:\n",
    "    print( 'numero de quartos: {}'.format( bedrooms ) )\n",
    "    print( frame.head(), end='\\n' )"
   ]
  },
  {
   "cell_type": "markdown",
   "id": "fourth-anderson",
   "metadata": {},
   "source": [
    "## 1.2. Operações\n",
    "- * Com os dados agrupados, podemos realizar operações matemáticas *\n",
    "    - Exemplo: Contagem, Minimos, Máximos, Soma, etc.\n"
   ]
  },
  {
   "cell_type": "markdown",
   "id": "motivated-projector",
   "metadata": {
    "ExecuteTime": {
     "end_time": "2021-02-05T17:27:25.642710Z",
     "start_time": "2021-02-05T17:27:25.638089Z"
    }
   },
   "source": [
    "# Exercicios - Aula"
   ]
  },
  {
   "cell_type": "code",
   "execution_count": null,
   "id": "solid-catch",
   "metadata": {
    "run_control": {
     "marked": true
    }
   },
   "outputs": [],
   "source": []
  },
  {
   "cell_type": "code",
   "execution_count": null,
   "id": "consecutive-south",
   "metadata": {
    "run_control": {
     "marked": true
    }
   },
   "outputs": [],
   "source": []
  },
  {
   "cell_type": "code",
   "execution_count": null,
   "id": "closing-assurance",
   "metadata": {
    "run_control": {
     "marked": true
    }
   },
   "outputs": [],
   "source": []
  },
  {
   "cell_type": "code",
   "execution_count": null,
   "id": "color-voltage",
   "metadata": {
    "run_control": {
     "marked": true
    }
   },
   "outputs": [],
   "source": []
  },
  {
   "cell_type": "code",
   "execution_count": null,
   "id": "accredited-cattle",
   "metadata": {
    "run_control": {
     "marked": true
    }
   },
   "outputs": [],
   "source": []
  },
  {
   "cell_type": "code",
   "execution_count": null,
   "id": "derived-restaurant",
   "metadata": {
    "run_control": {
     "marked": true
    }
   },
   "outputs": [],
   "source": []
  },
  {
   "cell_type": "code",
   "execution_count": null,
   "id": "failing-arctic",
   "metadata": {
    "run_control": {
     "marked": true
    }
   },
   "outputs": [],
   "source": []
  },
  {
   "cell_type": "code",
   "execution_count": null,
   "id": "outstanding-western",
   "metadata": {
    "run_control": {
     "marked": true
    }
   },
   "outputs": [],
   "source": []
  },
  {
   "cell_type": "code",
   "execution_count": null,
   "id": "forward-amateur",
   "metadata": {
    "run_control": {
     "marked": true
    }
   },
   "outputs": [],
   "source": []
  }
 ],
 "metadata": {
  "kernelspec": {
   "display_name": "Python 3",
   "language": "python",
   "name": "python3"
  },
  "language_info": {
   "codemirror_mode": {
    "name": "ipython",
    "version": 3
   },
   "file_extension": ".py",
   "mimetype": "text/x-python",
   "name": "python",
   "nbconvert_exporter": "python",
   "pygments_lexer": "ipython3",
   "version": "3.8.5"
  }
 },
 "nbformat": 4,
 "nbformat_minor": 5
}
